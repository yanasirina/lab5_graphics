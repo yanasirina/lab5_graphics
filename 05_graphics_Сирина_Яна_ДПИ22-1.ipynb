{
 "cells": [
  {
   "cell_type": "code",
   "execution_count": null,
   "id": "6fac7ce2",
   "metadata": {},
   "outputs": [],
   "source": [
    "import pandas as pd\n",
    "import numpy as np\n",
    "import matplotlib.pyplot as plt\n",
    "import matplotlib.dates as mdates\n",
    "import seaborn as sns"
   ]
  },
  {
   "cell_type": "markdown",
   "id": "6793a34f",
   "metadata": {},
   "source": [
    "## Задачи для совместного разбора"
   ]
  },
  {
   "cell_type": "markdown",
   "id": "0c3cc899",
   "metadata": {},
   "source": [
    "1. При помощи пакета `pandas_datareader` загрузите данные о ценах акций Apple с 2017-01-01 по 2018-12-31. Визуализируйте временные ряд цен акций."
   ]
  },
  {
   "cell_type": "code",
   "execution_count": 1,
   "id": "0a042e4d",
   "metadata": {},
   "outputs": [
    {
     "name": "stdout",
     "output_type": "stream",
     "text": [
      "Collecting pandas_datareader\n",
      "  Downloading pandas_datareader-0.10.0-py3-none-any.whl (109 kB)\n",
      "Requirement already satisfied: requests>=2.19.0 in c:\\users\\alpha\\.conda\\envs\\teach_e2\\lib\\site-packages (from pandas_datareader) (2.27.1)\n",
      "Requirement already satisfied: pandas>=0.23 in c:\\users\\alpha\\.conda\\envs\\teach_e2\\lib\\site-packages (from pandas_datareader) (1.4.2)\n",
      "Requirement already satisfied: lxml in c:\\users\\alpha\\.conda\\envs\\teach_e2\\lib\\site-packages (from pandas_datareader) (4.8.0)\n",
      "Requirement already satisfied: pytz>=2020.1 in c:\\users\\alpha\\.conda\\envs\\teach_e2\\lib\\site-packages (from pandas>=0.23->pandas_datareader) (2021.3)\n",
      "Requirement already satisfied: python-dateutil>=2.8.1 in c:\\users\\alpha\\.conda\\envs\\teach_e2\\lib\\site-packages (from pandas>=0.23->pandas_datareader) (2.8.2)\n",
      "Requirement already satisfied: numpy>=1.18.5 in c:\\users\\alpha\\.conda\\envs\\teach_e2\\lib\\site-packages (from pandas>=0.23->pandas_datareader) (1.21.5)\n",
      "Requirement already satisfied: six>=1.5 in c:\\users\\alpha\\.conda\\envs\\teach_e2\\lib\\site-packages (from python-dateutil>=2.8.1->pandas>=0.23->pandas_datareader) (1.16.0)\n",
      "Requirement already satisfied: urllib3<1.27,>=1.21.1 in c:\\users\\alpha\\.conda\\envs\\teach_e2\\lib\\site-packages (from requests>=2.19.0->pandas_datareader) (1.26.9)\n",
      "Requirement already satisfied: charset-normalizer~=2.0.0 in c:\\users\\alpha\\.conda\\envs\\teach_e2\\lib\\site-packages (from requests>=2.19.0->pandas_datareader) (2.0.4)\n",
      "Requirement already satisfied: idna<4,>=2.5 in c:\\users\\alpha\\.conda\\envs\\teach_e2\\lib\\site-packages (from requests>=2.19.0->pandas_datareader) (3.3)\n",
      "Requirement already satisfied: certifi>=2017.4.17 in c:\\users\\alpha\\.conda\\envs\\teach_e2\\lib\\site-packages (from requests>=2.19.0->pandas_datareader) (2021.10.8)\n",
      "Installing collected packages: pandas-datareader\n",
      "Successfully installed pandas-datareader-0.10.0\n"
     ]
    }
   ],
   "source": [
    "!pip install pandas_datareader"
   ]
  },
  {
   "cell_type": "markdown",
   "id": "96a89bad",
   "metadata": {},
   "source": [
    "2. Проанализируйте временной ряд максимальной цены акций на предмет выбросов."
   ]
  },
  {
   "cell_type": "markdown",
   "id": "ab734027",
   "metadata": {},
   "source": [
    "## Лабораторная работа 5.1"
   ]
  },
  {
   "cell_type": "markdown",
   "id": "4a4b3cd8",
   "metadata": {},
   "source": [
    "__Данная работа подразумевает построение рисунков. В связи с этим задания, для которых не будет виден результат выполнения ячеек (получившиеся рисунки), засчитаны не будут вне зависимости от правильности решения.__"
   ]
  },
  {
   "cell_type": "markdown",
   "id": "00567487",
   "metadata": {},
   "source": [
    "### Визуализация данных при помощи пакета `matplotlib`"
   ]
  },
  {
   "cell_type": "markdown",
   "id": "597af5b7",
   "metadata": {},
   "source": [
    "__В данном блоке задач не разрешается использовать другие пакеты для визуализации, кроме `matplotlib`.__"
   ]
  },
  {
   "cell_type": "markdown",
   "id": "10edb9c1",
   "metadata": {},
   "source": [
    "1\\. В файле `average_ratings.npy` содержится информация о среднем рейтинге 3 рецептов за период с 01.01.2019 по 30.12.2021. При помощи пакета `matplotlib` в _одной системе координат_ (на одной картинке) изобразите три временных ряда, соответствующих средним рейтингам этих рецептов. \n",
    "\n",
    "По горизонтальной оси располагается номер дня (0, 1, 2, ...), по вертикальной - средний рейтинг рецептов в этот день. \n",
    "\n",
    "Названия рецептов и их индексы в файле `average_ratings.npy`:\n",
    "```\n",
    "0: waffle iron french toast\n",
    "1: zwetschgenkuchen bavarian plum cake\n",
    "2: lime tea\n",
    "```\n",
    "\n",
    "Результатом работы является визуализация, на которой:\n",
    "* добавлена подпись горизонтальной оси с текстом \"Номер дня\"\n",
    "* добавлена подпись вертикальной оси с текстом \"Средний рейтинг\"\n",
    "* добавлена подпись рисунка с текстом \"Изменение среднего рейтинга трех рецептов\"\n",
    "* каждый из временных рядов имеет уникальный цвет\n",
    "* добавлена легенда, на которой отображается название каждого из рецептов\n",
    "\n",
    "_Примечание_ : для считывания файла воспользуйтесь функцией `np.load`."
   ]
  },
  {
   "cell_type": "markdown",
   "id": "44b13bed",
   "metadata": {},
   "source": [
    "2\\. Измените визуализацию, полученную в задании 1, таким образом, чтобы по горизонтальной оси отображались года, а между двумя соседними годами располагались засечки, соответствующие месяцам. Для этого создайте диапазон дат от 01.01.2019 по 30.12.2021 с шагом в один день (например, [вот так](https://pandas.pydata.org/docs/reference/api/pandas.date_range.html)) и используйте этот диапазон при вызове метода `plot`. Далее настройте `major_locator` и `minor_locator` горизонтальной оси (подробнее см. [здесь](https://matplotlib.org/stable/gallery/text_labels_and_annotations/date.html))\n",
    "\n",
    "Примените к получившемуся рисунку цвета графиков, подписи, легенду из задания 1. Измените подпись горизонтальной оси, написав там слово \"Дата\".\n"
   ]
  },
  {
   "cell_type": "markdown",
   "id": "ab5e9b0e",
   "metadata": {},
   "source": [
    "3\\. Измените визуализацию, полученную в задании 2, разбив одну картинку на три, расположенных друг под другом. Три изображения должны иметь одну общую горизонтальную ось (каждое изображение засечки в нижней части, но значения этих засечек находятся только под самым нижним изображением). Примените к получившемуся рисунку цвета графиков, подписи, легенду из задания 2. "
   ]
  },
  {
   "cell_type": "markdown",
   "id": "08e92a5c",
   "metadata": {},
   "source": [
    "4\\. В файле `visitors.npy` представлена информация о количестве посетителей сайта в течении первых 100 дней после объявления сайтом акции. Постройте график изменения количества пользователей в зависимости от дня в двух вариантах, расположенных рядом по горизонтале. В обоих случаях изобразите график в виде ломаной, но в первом случае оставьте линейный масштаб осей, а во втором случае сделайте вертикальную ось в логарифмическом масштабе. Добавьте на обе картинки подпись над этим графиком к текстом $y(x)=\\lambda e^{-\\lambda x}$\n",
    "\n",
    "Добавьте на оба изображения красную горизонтальную линию на уровне $y=100$. Добавьте на обе картинки подпись над этой линией с текстом $y(x)=100$\n",
    "\n",
    "Добавьте на оба изображения подписи осей; горизонтальную ось подпишите текстом \"Количество дней с момента акции\", вертикальную - \"Число посетителей\".\n",
    "\n",
    "Добавьте общий заголовок для фигуры с текстом \"Изменение количества пользователей в линейном и логарифмическом масштабе\".\n"
   ]
  },
  {
   "cell_type": "markdown",
   "id": "2bfaf3e1",
   "metadata": {},
   "source": [
    "## Лабораторная работа 5.2"
   ]
  },
  {
   "cell_type": "markdown",
   "id": "80429ece",
   "metadata": {},
   "source": [
    "### Визуализация данных на основе структур `pandas`."
   ]
  },
  {
   "cell_type": "markdown",
   "id": "c4ce0c09",
   "metadata": {},
   "source": [
    "Для продолжения работы загрузите таблицы recipes и reviews (__ЛР2__)"
   ]
  },
  {
   "cell_type": "code",
   "execution_count": null,
   "id": "8b013e2e",
   "metadata": {},
   "outputs": [],
   "source": [
    "reviews = ...\n",
    "recipes = ..."
   ]
  },
  {
   "cell_type": "markdown",
   "id": "8beb61a7",
   "metadata": {},
   "source": [
    "5\\. Назовем рецепты короткими, если они занимают строго меньше 5 минут; средними, если они занимают от 5 до 50 минут (не включая 50), и длинными, если они занимают от 50 минут и больше. Сгруппируйте все рецепты по данному признаку и для каждой группы посчитайте 2 величины: среднее количество шагов рецептов в группе и размер группы. При помощи методов структур `pandas` постройте столбчатую диаграмму, где каждый столбец означает группу (короткие, средние или длинные рецепты), а высота столбца обозначает среднее количество шагов рецептов в группе. Рядом по горизонтали разместите круговую диаграмму, на которой отображены размеры каждой из групп.\n",
    "\n",
    "Добавьте следующие подписи:\n",
    "* по горизонтальной оси под столбчатой диаграммой напишите \"Группа рецептов\"\n",
    "* по вертикальной оси слева от столбчатой диаграммы напишите \"Средняя длительность\"\n",
    "* над круговой диаграммой напишите \"Размеры групп рецептов\""
   ]
  },
  {
   "cell_type": "markdown",
   "id": "7ebb1c1b",
   "metadata": {},
   "source": [
    "6\\. Из всего множества отзывов оставьте только те, которые были даны в 2008 и 2009 годах. Воспользовавшись возможностями метода `pd.DataFrame.plot.hist`, постройте 2 гистограммы столбца `rating`. Гистограммы должны быть расположены рядом по горизонтали. Левая гистограмма соотвествует 2008 году, правая - 2009 году. Добавьте общую подпись для рисунка с текстом \"Гистограммы рейтинга отзывов в 2008 и 2009 годах\". Добейтесь того, чтобы подпись вертикальной оси правого рисунка не \"наезжала\" на левый рисунок."
   ]
  },
  {
   "cell_type": "markdown",
   "id": "0eaff2c6",
   "metadata": {},
   "source": [
    "### Визуализация данных при помощи пакета `seaborn`"
   ]
  },
  {
   "cell_type": "markdown",
   "id": "8b6659a7",
   "metadata": {},
   "source": [
    "7\\. При помощи пакета `seaborn` постройте диаграмму рассеяния двух столбцов из таблицы `recipes`: `n_steps` и `n_ingredients`. Укажите в качестве группирующей переменной (hue) категориальную длительность рецепта (короткий, средний или длинные; см. задание 5). \n",
    "\n",
    "Добавьте заголовок рисунка \"Диаграмма рассеяния n_steps и n_ingredients\"\n",
    "\n",
    "Прокомментируйте, наблюдается ли визуально линейная зависимость между двумя этими переменными. Ответ оставьте в виде текстовой ячейки под изображением."
   ]
  },
  {
   "cell_type": "code",
   "execution_count": null,
   "id": "f29dab4a",
   "metadata": {},
   "outputs": [],
   "source": []
  },
  {
   "cell_type": "markdown",
   "id": "acff5f6a",
   "metadata": {},
   "source": [
    "8\\. Объедините две таблицы `recipes` и `reviews` и постройте корреляционную матрицу на основе столбцов \"minutes\", \"n_steps\", \"n_ingredients\" и \"rating\". При помощи пакета `seaborn` визуализируйте полученную матрицу в виде тепловой карты (heatmap). \n",
    "\n",
    "Добавьте в ячейки тепловой карты подписи (значения к-та корреляции). Измените цветовую палитру на `YlOrRd`. \n",
    "\n",
    "Добавьте заголовок рисунка \"Корреляционная матрица числовых столбцов таблиц recipes и reviews\""
   ]
  },
  {
   "cell_type": "code",
   "execution_count": null,
   "id": "0d931652",
   "metadata": {},
   "outputs": [],
   "source": []
  }
 ],
 "metadata": {
  "kernelspec": {
   "display_name": "Python 3 (ipykernel)",
   "language": "python",
   "name": "python3"
  },
  "language_info": {
   "codemirror_mode": {
    "name": "ipython",
    "version": 3
   },
   "file_extension": ".py",
   "mimetype": "text/x-python",
   "name": "python",
   "nbconvert_exporter": "python",
   "pygments_lexer": "ipython3",
   "version": "3.8.10"
  }
 },
 "nbformat": 4,
 "nbformat_minor": 5
}
